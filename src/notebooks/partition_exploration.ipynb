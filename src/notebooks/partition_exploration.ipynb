{
 "cells": [
  {
   "cell_type": "code",
   "execution_count": 1,
   "metadata": {},
   "outputs": [],
   "source": [
    "import numpy as np\n",
    "import networkx as nx\n",
    "import pickle\n",
    "import matplotlib.pyplot as plt\n",
    "import seaborn as sns\n",
    "import pandas as pd\n",
    "import torch"
   ]
  },
  {
   "cell_type": "markdown",
   "metadata": {},
   "source": [
    "## Validating Partition Structure"
   ]
  },
  {
   "cell_type": "code",
   "execution_count": 4,
   "metadata": {},
   "outputs": [],
   "source": [
    "# paths\n",
    "metis_path = f\"../../data/superblue/superblue_1/metis_part_dict.pkl\"\n",
    "pl_path = f\"../../data/superblue/superblue_1/pl_part_dict.pkl\"\n",
    "feature_approx_physical_path = f\"../../data/superblue/superblue_1/feature_approx_physical_part_dict.pkl\""
   ]
  },
  {
   "cell_type": "code",
   "execution_count": null,
   "metadata": {},
   "outputs": [
    {
     "name": "stdout",
     "output_type": "stream",
     "text": [
      "1619461\n",
      "797938\n",
      "797938\n",
      "\n"
     ]
    }
   ],
   "source": [
    "# Open and load the file\n",
    "with open(metis_path, 'rb') as file:  # 'rb' mode opens the file in binary read mode\n",
    "    metis_data = pickle.load(file)\n",
    "with open(feature_approx_physical_path, 'rb') as file:  # 'rb' mode opens the file in binary read mode\n",
    "    feature_approx_physical_data = pickle.load(file)\n",
    "with open(pl_path, 'rb') as file:  # 'rb' mode opens the file in binary read mode\n",
    "    pl_data = pickle.load(file)\n",
    "\n",
    "# Display the data\n",
    "print(len(metis_data))\n",
    "print(len(feature_approx_physical_data))\n",
    "print(len(pl_data))"
   ]
  },
  {
   "cell_type": "markdown",
   "metadata": {},
   "source": [
    "## Partition Analysis"
   ]
  },
  {
   "cell_type": "code",
   "execution_count": null,
   "metadata": {},
   "outputs": [],
   "source": [
    "#for i in range(100):\n",
    "#    print(metis_data[i])\n",
    "#    print(feature_approx_physical_data[i])\n",
    "#    print(pl_data[i])\n",
    "#    print(\"--------------------------------\")"
   ]
  }
 ],
 "metadata": {
  "language_info": {
   "name": "python"
  }
 },
 "nbformat": 4,
 "nbformat_minor": 2
}
